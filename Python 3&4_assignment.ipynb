{
 "cells": [
  {
   "cell_type": "code",
   "execution_count": 80,
   "metadata": {},
   "outputs": [],
   "source": [
    "def myreduce(myfunc, obj):\n",
    "    objct = iter(obj)\n",
    "    value = next(objct)\n",
    "    for i in objct:\n",
    "        value = myfunc(value,i)\n",
    "    return value"
   ]
  },
  {
   "cell_type": "code",
   "execution_count": 81,
   "metadata": {},
   "outputs": [
    {
     "data": {
      "text/plain": [
       "1"
      ]
     },
     "execution_count": 81,
     "metadata": {},
     "output_type": "execute_result"
    }
   ],
   "source": [
    "lst = [1,2,3,4]\n",
    "myreduce(lambda x,y: x**y, lst)"
   ]
  },
  {
   "cell_type": "code",
   "execution_count": 76,
   "metadata": {},
   "outputs": [
    {
     "name": "stdout",
     "output_type": "stream",
     "text": [
      "[1, 3, 5]\n"
     ]
    }
   ],
   "source": [
    "def myfilter(myfun, ls):\n",
    "    l = []\n",
    "    for i in ls:\n",
    "        a = myfun(i)\n",
    "        if a == True:\n",
    "            l.append(i)\n",
    "    return l        \n",
    "list = [1,2,3,4,5]       \n",
    "a = myfilter(lambda x: x % 2 != 0,list)\n",
    "print(a)"
   ]
  },
  {
   "cell_type": "code",
   "execution_count": 10,
   "metadata": {},
   "outputs": [
    {
     "data": {
      "text/plain": [
       "['A', 'C', 'A', 'D', 'G', 'I', 'L', 'D']"
      ]
     },
     "execution_count": 10,
     "metadata": {},
     "output_type": "execute_result"
    }
   ],
   "source": [
    "## Question 2\n",
    "acadgild = [x for x in 'ACADGILD']\n",
    "acadgild"
   ]
  },
  {
   "cell_type": "code",
   "execution_count": 34,
   "metadata": {},
   "outputs": [
    {
     "data": {
      "text/plain": [
       "['x', 'xx', 'xxx', 'xxxx', 'y', 'yy', 'yyy', 'yyyy', 'z', 'zz', 'zzz', 'zzzz']"
      ]
     },
     "execution_count": 34,
     "metadata": {},
     "output_type": "execute_result"
    }
   ],
   "source": [
    "lst1 = []\n",
    "for a in ['x','y','z']:\n",
    "    c = ''\n",
    "    for b in [1,2,3,4]:\n",
    "        c=a+c\n",
    "        lst1.append(c)\n",
    "lst1"
   ]
  },
  {
   "cell_type": "code",
   "execution_count": 54,
   "metadata": {},
   "outputs": [
    {
     "data": {
      "text/plain": [
       "['x', 'y', 'z', 'xx', 'yy', 'zz', 'xx', 'yy', 'zz', 'xxxx', 'yyyy', 'zzzz']"
      ]
     },
     "execution_count": 54,
     "metadata": {},
     "output_type": "execute_result"
    }
   ],
   "source": [
    "lst2 = []\n",
    "for a in ['x','y','z']:\n",
    "    for b in a:\n",
    "        lst2.append(a)\n",
    "for a in [1,2]:\n",
    "    for b in ['x','y','z']: \n",
    "        lst2.append(b+b)\n",
    "for a in ['x','y','z']:\n",
    "        lst2.append(a*4)\n",
    "lst2"
   ]
  },
  {
   "cell_type": "code",
   "execution_count": 67,
   "metadata": {},
   "outputs": [
    {
     "data": {
      "text/plain": [
       "[[2], [3], [4], [3], [4], [5], [4], [5], [6]]"
      ]
     },
     "execution_count": 67,
     "metadata": {},
     "output_type": "execute_result"
    }
   ],
   "source": [
    "lst3 = [2,3,4,3,4,5,4,5,6]\n",
    "lst4 = []\n",
    "\n",
    "for a in lst3:\n",
    "    ls = []\n",
    "    ls.append(a)\n",
    "    lst4.append(ls)\n",
    "\n",
    "lst4\n",
    "    "
   ]
  },
  {
   "cell_type": "code",
   "execution_count": 75,
   "metadata": {},
   "outputs": [
    {
     "data": {
      "text/plain": [
       "[[2, 3, 4, 5], [2, 3, 4, 5], [2, 3, 4, 5], [2, 3, 4, 5]]"
      ]
     },
     "execution_count": 75,
     "metadata": {},
     "output_type": "execute_result"
    }
   ],
   "source": [
    "lst5 = [1,2,3,4]\n",
    "lst6 = []\n",
    "ls1 = []\n",
    "for a in lst5:\n",
    "    ls1.append(a + 1)\n",
    "    lst6.append(ls1)\n",
    "lst6    \n"
   ]
  },
  {
   "cell_type": "code",
   "execution_count": 37,
   "metadata": {},
   "outputs": [],
   "source": [
    "##question 3\n",
    "def longestWord(list1):\n",
    "    longestword = \"\"\n",
    "    length=0\n",
    "    for i in list1:\n",
    "        if len(i)>length:\n",
    "            length=len(i)\n",
    "            longestword=i\n",
    "    print(longestword)\n",
    "            \n",
    "        "
   ]
  },
  {
   "cell_type": "code",
   "execution_count": 38,
   "metadata": {},
   "outputs": [
    {
     "name": "stdout",
     "output_type": "stream",
     "text": [
      "hagsfdsdvc\n"
     ]
    }
   ],
   "source": [
    "longestWord(['q','adasd','hagsfdsdvc'])"
   ]
  },
  {
   "cell_type": "code",
   "execution_count": 79,
   "metadata": {},
   "outputs": [
    {
     "ename": "TypeError",
     "evalue": "__init__() missing 3 required positional arguments: 'a', 'b', and 'c'",
     "output_type": "error",
     "traceback": [
      "\u001b[1;31m---------------------------------------------------------------------------\u001b[0m",
      "\u001b[1;31mTypeError\u001b[0m                                 Traceback (most recent call last)",
      "\u001b[1;32m<ipython-input-79-da7436d572ad>\u001b[0m in \u001b[0;36m<module>\u001b[1;34m()\u001b[0m\n\u001b[0;32m     18\u001b[0m         \u001b[1;32mreturn\u001b[0m \u001b[0marea\u001b[0m\u001b[1;33m\u001b[0m\u001b[0m\n\u001b[0;32m     19\u001b[0m \u001b[1;33m\u001b[0m\u001b[0m\n\u001b[1;32m---> 20\u001b[1;33m \u001b[0marea1\u001b[0m \u001b[1;33m=\u001b[0m \u001b[0mAreaOfTri\u001b[0m\u001b[1;33m(\u001b[0m\u001b[1;33m)\u001b[0m\u001b[1;33m\u001b[0m\u001b[0m\n\u001b[0m\u001b[0;32m     21\u001b[0m \u001b[0marea1\u001b[0m\u001b[1;33m.\u001b[0m\u001b[0mgetdata\u001b[0m\u001b[1;33m(\u001b[0m\u001b[1;33m)\u001b[0m\u001b[1;33m\u001b[0m\u001b[0m\n\u001b[0;32m     22\u001b[0m \u001b[0marea1\u001b[0m\u001b[1;33m.\u001b[0m\u001b[0mcalculate\u001b[0m\u001b[1;33m(\u001b[0m\u001b[1;33m)\u001b[0m\u001b[1;33m\u001b[0m\u001b[0m\n",
      "\u001b[1;31mTypeError\u001b[0m: __init__() missing 3 required positional arguments: 'a', 'b', and 'c'"
     ]
    }
   ],
   "source": [
    "##Task 2\n",
    "##Question 1.1\n",
    "class Triangle:\n",
    "    def __init__(self,a,b,c):\n",
    "        self.a = a\n",
    "        self.b = b\n",
    "        self.c = c\n",
    "    def getdata(self):\n",
    "        self.a = int(input(\"enter a:\"))\n",
    "        self.b = int(input(\"enter b:\"))\n",
    "        self.c = int(input(\"enter c:\"))\n",
    "class AreaOfTri(Triangle):\n",
    "    def __init__(self,a,b,c):\n",
    "        super(AreaOfTri,self).__init__(self)\n",
    "    def calculate(self):\n",
    "        s = (self.a+self.b+self.c)/2\n",
    "        area = (s*(s-self.a)*(s-self.b)*(s-self.c))**0.5\n",
    "        return area\n",
    "\n",
    "area1 = AreaOfTri()\n",
    "area1.getdata()\n",
    "area1.calculate()\n",
    "print(area1)"
   ]
  },
  {
   "cell_type": "markdown",
   "metadata": {},
   "source": []
  },
  {
   "cell_type": "code",
   "execution_count": 72,
   "metadata": {},
   "outputs": [
    {
     "data": {
      "text/plain": [
       "['kruthi']"
      ]
     },
     "execution_count": 72,
     "metadata": {},
     "output_type": "execute_result"
    }
   ],
   "source": [
    "##task 2 - question 1.2\n",
    "list2 = list()\n",
    "def filter_long_words(list1,n):\n",
    "    longestword = \"\"\n",
    "    length=0\n",
    "    for i in list1:\n",
    "        if len(i)>n:\n",
    "           list2.append(i)\n",
    "    return list2\n",
    "filter_long_words(['pra','kruthi','gopal'],5)"
   ]
  },
  {
   "cell_type": "code",
   "execution_count": 74,
   "metadata": {},
   "outputs": [
    {
     "data": {
      "text/plain": [
       "[3, 6, 5]"
      ]
     },
     "execution_count": 74,
     "metadata": {},
     "output_type": "execute_result"
    }
   ],
   "source": [
    "##question 2.1\n",
    "def word_count(list3):\n",
    "    list4=list()\n",
    "    for i in list3:\n",
    "        list4.append(len(i))\n",
    "    return list4\n",
    "\n",
    "word_count(['pra','kruthi','gopal'])"
   ]
  },
  {
   "cell_type": "code",
   "execution_count": 1,
   "metadata": {},
   "outputs": [
    {
     "data": {
      "text/plain": [
       "False"
      ]
     },
     "execution_count": 1,
     "metadata": {},
     "output_type": "execute_result"
    }
   ],
   "source": [
    "##question 2.2\n",
    "def isvowel(str1):\n",
    "    listvowels=('a','e','i','o','u','A','E','I','O','U')    \n",
    "    for i in listvowels:\n",
    "        if i == str1:\n",
    "            return True\n",
    "    return False\n",
    "\n",
    "isvowel('c')"
   ]
  }
 ],
 "metadata": {
  "kernelspec": {
   "display_name": "Python 3",
   "language": "python",
   "name": "python3"
  },
  "language_info": {
   "codemirror_mode": {
    "name": "ipython",
    "version": 3
   },
   "file_extension": ".py",
   "mimetype": "text/x-python",
   "name": "python",
   "nbconvert_exporter": "python",
   "pygments_lexer": "ipython3",
   "version": "3.6.5"
  }
 },
 "nbformat": 4,
 "nbformat_minor": 2
}
